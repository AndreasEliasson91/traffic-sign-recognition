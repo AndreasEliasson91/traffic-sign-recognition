{
 "cells": [
  {
   "cell_type": "markdown",
   "source": [
    "## Image Data - Notebook\n",
    "\n",
    "image data manipulation.\n",
    "\n",
    " Dependencies:\n",
    " signs.csv, containing annotations for the images\n"
   ],
   "metadata": {
    "collapsed": false,
    "pycharm": {
     "name": "#%% md\n"
    }
   }
  },
  {
   "cell_type": "code",
   "execution_count": 1,
   "outputs": [],
   "source": [
    "import json\n",
    "import pandas as pd\n",
    "\n",
    "from application.src.utils import get_root_path\n",
    "\n",
    "df = pd.read_csv(str(get_root_path()) + '/data/datasets/LU-data/signs.csv', delimiter=';')"
   ],
   "metadata": {
    "collapsed": false,
    "pycharm": {
     "name": "#%%\n"
    }
   }
  },
  {
   "cell_type": "markdown",
   "source": [
    "##### Converting Dataframe to dictionary, with format:\n",
    "\n",
    "##### {image: [ {sign_data} ...]\n",
    "--------"
   ],
   "metadata": {
    "collapsed": false,
    "pycharm": {
     "name": "#%% md\n"
    }
   },
   "outputs": [],
   "execution_count": 1
  },
  {
   "cell_type": "code",
   "execution_count": 2,
   "outputs": [],
   "source": [
    "img_list = df.image.tolist()\n",
    "signs_list = [json.loads(value) for value in df.sign_data.tolist()]\n",
    "data = [ {k: v} for k, v in list(zip(img_list, signs_list))]"
   ],
   "metadata": {
    "collapsed": false,
    "pycharm": {
     "name": "#%%\n"
    }
   }
  },
  {
   "cell_type": "markdown",
   "source": [
    "---\n",
    " Helper Functions:"
   ],
   "metadata": {
    "collapsed": false,
    "pycharm": {
     "name": "#%% md\n"
    }
   }
  },
  {
   "cell_type": "code",
   "execution_count": 3,
   "outputs": [],
   "source": [
    "def get_sign(image: str, value: list):\n",
    "    for img in data:\n",
    "        if image in img:\n",
    "            for sign in img[image]:\n",
    "                for v in value:\n",
    "                    print(sign[v])\n",
    "                print('___________')\n"
   ],
   "metadata": {
    "collapsed": false,
    "pycharm": {
     "name": "#%%\n"
    }
   }
  },
  {
   "cell_type": "markdown",
   "source": [
    "----"
   ],
   "metadata": {
    "collapsed": false,
    "pycharm": {
     "name": "#%% md\n"
    }
   }
  },
  {
   "cell_type": "code",
   "source": [
    "#Example:\n",
    "all_data = ['category', 'sign', 'x_min', 'x_max', 'y_min', 'y_max']\n",
    "cat_sign = ['category', 'sign']\n",
    "\n",
    "get_sign('1277104195Image000003.jpg', all_data)\n",
    "\n"
   ],
   "metadata": {
    "collapsed": false,
    "pycharm": {
     "name": "#%%\n"
    }
   },
   "execution_count": 4,
   "outputs": [
    {
     "name": "stdout",
     "output_type": "stream",
     "text": [
      "PROHIBITORY\n",
      "100_SIGN\n",
      "377.737633\n",
      "470.265032\n",
      "355.784819\n",
      "446.711493\n",
      "___________\n"
     ]
    }
   ]
  }
 ],
 "metadata": {
  "kernelspec": {
   "display_name": "Python 3",
   "language": "python",
   "name": "python3"
  },
  "language_info": {
   "codemirror_mode": {
    "name": "ipython",
    "version": 2
   },
   "file_extension": ".py",
   "mimetype": "text/x-python",
   "name": "python",
   "nbconvert_exporter": "python",
   "pygments_lexer": "ipython2",
   "version": "2.7.6"
  }
 },
 "nbformat": 4,
 "nbformat_minor": 0
}