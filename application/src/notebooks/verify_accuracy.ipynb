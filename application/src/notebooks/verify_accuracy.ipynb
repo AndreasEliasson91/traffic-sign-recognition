{
 "cells": [
  {
   "cell_type": "code",
   "execution_count": 2,
   "metadata": {
    "pycharm": {
     "name": "#%%\n"
    }
   },
   "outputs": [],
   "source": [
    "from application.src.models.faster_rcnn import load_model, RCNNModel\n",
    "from application.src.config import TEST_DIR\n",
    "from torchvision.transforms import transforms\n",
    "from application.src.models.custom_dataset import test_dataset\n",
    "from PIL import Image\n",
    "import os"
   ]
  },
  {
   "cell_type": "code",
   "execution_count": 3,
   "metadata": {
    "pycharm": {
     "name": "#%%\n"
    }
   },
   "outputs": [],
   "source": [
    "model = load_model()\n",
    "transform = transforms.Compose([transforms.ToTensor()])"
   ]
  },
  {
   "cell_type": "code",
   "execution_count": 8,
   "metadata": {
    "pycharm": {
     "name": "#%%\n"
    }
   },
   "outputs": [
    {
     "name": "stdout",
     "output_type": "stream",
     "text": [
      "i = 0, Image path: C:\\Users\\Kajsa\\PycharmProjects\\traffic-sign-recognition\\application/data/datasets/LU-data/test\\1277104195Image000003_jpg.rf.985b035268987fa9c74999f0db77c6b5.jpg\n",
      "Correct labels: ['100_SIGN']\n",
      "Predicted labels: ['80_SIGN', '100_SIGN', '70_SIGN']\n",
      "Scores: [84, 17, 8]\n",
      "Boxes: [tensor([167.2503, 211.0037, 177.4527, 220.4435]), tensor([167.6144, 210.5826, 177.6667, 220.4621]), tensor([167.3387, 210.7373, 177.6348, 221.5271])]\n",
      "i = 2, Image path: C:\\Users\\Kajsa\\PycharmProjects\\traffic-sign-recognition\\application/data/datasets/LU-data/test\\1277104195Image000003_jpg.rf.d6a7728a1c45d3746b093c0ca5917553.jpg\n",
      "Correct labels: ['100_SIGN']\n",
      "Predicted labels: ['80_SIGN', '70_SIGN', 'PRIORITY_ROAD', '100_SIGN']\n",
      "Scores: [82, 25, 14, 11]\n",
      "Boxes: [tensor([357.7505, 448.9753, 379.6328, 470.6000]), tensor([357.3932, 449.2030, 379.7569, 472.8456]), tensor([367.2266, 472.1650, 379.8308, 483.8214]), tensor([358.1158, 448.8360, 379.1151, 471.0172])]\n",
      "i = 4, Image path: C:\\Users\\Kajsa\\PycharmProjects\\traffic-sign-recognition\\application/data/datasets/LU-data/test\\1277104195Image000013_jpg.rf.2673d683e84593f365c512a20fad29d9.jpg\n",
      "Correct labels: ['100_SIGN']\n",
      "Predicted labels: ['100_SIGN', '80_SIGN', '70_SIGN']\n",
      "Scores: [65, 51, 13]\n",
      "Boxes: [tensor([394.7824, 440.6157, 422.5668, 468.2801]), tensor([394.2607, 440.7568, 422.2703, 468.1173]), tensor([394.6417, 440.4725, 423.0581, 470.7775])]\n",
      "i = 6, Image path: C:\\Users\\Kajsa\\PycharmProjects\\traffic-sign-recognition\\application/data/datasets/LU-data/test\\1277104195Image000013_jpg.rf.29f91b4a9a4acb288efe0b5b912810fe.jpg\n",
      "Correct labels: ['100_SIGN']\n",
      "Predicted labels: ['100_SIGN', '80_SIGN']\n",
      "Scores: [89, 25]\n",
      "Boxes: [tensor([185.2645, 206.7045, 198.4663, 219.7761]), tensor([184.8982, 206.9297, 198.3251, 219.7904])]\n",
      "Loop ends\n"
     ]
    }
   ],
   "source": [
    "for subdir, dirs, files in os.walk(TEST_DIR):\n",
    "    for i, file in enumerate(files):\n",
    "        if file[-4:] == '.jpg':\n",
    "            img_path = os.path.join(subdir, file)\n",
    "            print(f'i = {i}, Image path: {img_path}')\n",
    "            PIL_image = Image.open(img_path)\n",
    "            test_image = transform(PIL_image)\n",
    "            test_image = test_image.view(1, 3, test_image.shape[1], test_image.shape[2])\n",
    "            _, target = test_dataset[i]\n",
    "            correct_labels, predicted_labels, scores, boxes = model.verify(test_image, target)\n",
    "            print(f'Correct labels: {correct_labels}')\n",
    "            print(f'Predicted labels: {predicted_labels}')\n",
    "            print(f'Scores: {scores}')\n",
    "            print(f'Boxes: {boxes}')\n",
    "            if i > 4:\n",
    "                print('Loop ends')\n",
    "                break"
   ]
  },
  {
   "cell_type": "code",
   "execution_count": null,
   "outputs": [],
   "source": [],
   "metadata": {
    "collapsed": false,
    "pycharm": {
     "name": "#%%\n"
    }
   }
  }
 ],
 "metadata": {
  "kernelspec": {
   "display_name": "Python 3 (ipykernel)",
   "language": "python",
   "name": "python3"
  },
  "language_info": {
   "codemirror_mode": {
    "name": "ipython",
    "version": 3
   },
   "file_extension": ".py",
   "mimetype": "text/x-python",
   "name": "python",
   "nbconvert_exporter": "python",
   "pygments_lexer": "ipython3",
   "version": "3.9.12"
  }
 },
 "nbformat": 4,
 "nbformat_minor": 1
}