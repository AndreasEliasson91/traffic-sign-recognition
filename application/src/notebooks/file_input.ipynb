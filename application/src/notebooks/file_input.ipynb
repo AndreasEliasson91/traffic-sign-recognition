{
 "cells": [
  {
   "cell_type": "code",
   "execution_count": 1,
   "metadata": {
    "pycharm": {
     "name": "#%%\n"
    }
   },
   "outputs": [],
   "source": [
    "import ipywidgets as widgets\n",
    "from IPython.display import display\n",
    "from PIL import Image\n",
    "import io"
   ]
  },
  {
   "cell_type": "code",
   "execution_count": null,
   "outputs": [],
   "source": [
    "import torch\n",
    "from torchvision.transforms import transforms\n",
    "\n",
    "from application.src.models.faster_rcnn import RCNNModel\n",
    "from application.src.utils.presentation import get_relevant_scores, show"
   ],
   "metadata": {
    "collapsed": false,
    "pycharm": {
     "name": "#%%\n"
    }
   }
  },
  {
   "cell_type": "code",
   "execution_count": null,
   "outputs": [],
   "source": [
    "uploader = widgets.FileUpload(accept='.jpg', multiple=False)\n",
    "display(uploader)"
   ],
   "metadata": {
    "collapsed": false,
    "pycharm": {
     "name": "#%%\n"
    }
   }
  },
  {
   "cell_type": "code",
   "execution_count": null,
   "outputs": [],
   "source": [
    "def convert_upload(upload):\n",
    "    file = upload\n",
    "    file_name = str(list(file.keys())[0])\n",
    "    bytes_image = file[file_name]['content']\n",
    "    PIL_image = Image.open(io.BytesIO(bytes_image))\n",
    "    return PIL_image"
   ],
   "metadata": {
    "collapsed": false,
    "pycharm": {
     "name": "#%%\n"
    }
   }
  },
  {
   "cell_type": "code",
   "execution_count": null,
   "outputs": [],
   "source": [
    "PIL_image = convert_upload(uploader.value)"
   ],
   "metadata": {
    "collapsed": false,
    "pycharm": {
     "name": "#%%\n"
    }
   }
  },
  {
   "cell_type": "code",
   "execution_count": null,
   "outputs": [],
   "source": [
    "PIL_image"
   ],
   "metadata": {
    "collapsed": false,
    "pycharm": {
     "name": "#%%\n"
    }
   }
  },
  {
   "cell_type": "code",
   "execution_count": null,
   "outputs": [],
   "source": [
    "print(PIL_image.size)\n",
    "print(PIL_image.height)\n",
    "print(PIL_image.width)\n",
    "print(PIL_image.format)\n",
    "print(PIL_image.mode)"
   ],
   "metadata": {
    "collapsed": false,
    "pycharm": {
     "name": "#%%\n"
    }
   }
  },
  {
   "cell_type": "code",
   "execution_count": null,
   "outputs": [],
   "source": [
    "uploader.close()"
   ],
   "metadata": {
    "collapsed": false,
    "pycharm": {
     "name": "#%%\n"
    }
   }
  },
  {
   "cell_type": "code",
   "execution_count": null,
   "outputs": [],
   "source": [
    "def load_model():\n",
    "    from application.src.config import DEVICE, MODEL_NAME, OUT_DIR\n",
    "\n",
    "    model_path = str(OUT_DIR) + '/' + str(MODEL_NAME) + '.pth'\n",
    "\n",
    "    nm = RCNNModel()\n",
    "    nm.model.load_state_dict(torch.load(model_path, map_location=DEVICE))\n",
    "    nm.model.eval()\n",
    "\n",
    "    return nm\n",
    "\n",
    "def print_result(labels: list, scores=None) -> None:\n",
    "    \"\"\"\n",
    "    Print the labels and, if we predict a random image, the accuracy score.\n",
    "    Only prints the signs that with more than 60% accuracy\n",
    "    :param labels: list; list with the predicted or actual signs\n",
    "    :param scores: list[int]; list with accuracy scores, only when predicted. None by default\n",
    "    :return: None\n",
    "    \"\"\"\n",
    "    if scores:\n",
    "        [print(f'Sign: {label} - Accuracy: {scores[i]}%') for i, label in enumerate(labels)]\n",
    "    else:\n",
    "        [print(f'Sign: {label}') for label in labels]"
   ],
   "metadata": {
    "collapsed": false,
    "pycharm": {
     "name": "#%%\n"
    }
   }
  },
  {
   "cell_type": "code",
   "execution_count": null,
   "outputs": [],
   "source": [
    "model = load_model()\n",
    "transform = transforms.Compose([transforms.ToTensor()])\n",
    "\n",
    "image = transform(PIL_image)\n",
    "image = image.view(1, 3, image.shape[1], image.shape[2])\n",
    "\n",
    "labels, scores, boxes = model.predict(image)\n",
    "\n",
    "labels, scores, boxes = get_relevant_scores(labels, scores, boxes)\n",
    "\n",
    "show(PIL_image, labels, boxes, scores)\n",
    "print_result(labels, scores)"
   ],
   "metadata": {
    "collapsed": false,
    "pycharm": {
     "name": "#%%\n"
    }
   }
  }
 ],
 "metadata": {
  "kernelspec": {
   "display_name": "Python 3 (ipykernel)",
   "language": "python",
   "name": "python3"
  },
  "language_info": {
   "codemirror_mode": {
    "name": "ipython",
    "version": 3
   },
   "file_extension": ".py",
   "mimetype": "text/x-python",
   "name": "python",
   "nbconvert_exporter": "python",
   "pygments_lexer": "ipython3",
   "version": "3.9.12"
  }
 },
 "nbformat": 4,
 "nbformat_minor": 1
}