{
 "cells": [
  {
   "cell_type": "code",
   "execution_count": null,
   "outputs": [],
   "source": [
    "import cv2\n",
    "\n",
    "from application.src.config import CLASSES, TRAIN_DIR, RESIZE_TO\n",
    "from application.src.models.faster_rcnn import LUDataset"
   ],
   "metadata": {
    "collapsed": false,
    "pycharm": {
     "name": "#%%\n"
    }
   }
  },
  {
   "cell_type": "code",
   "execution_count": null,
   "outputs": [],
   "source": [
    "def visualize_sample(image, target):\n",
    "    box = target['boxes'][0]\n",
    "    label = CLASSES[target['labels']]\n",
    "    cv2.rectangle(\n",
    "        image,\n",
    "        (int(box[0]), int(box[1])), (int(box[2]), int(box[3])),\n",
    "        (0, 255, 0), 2\n",
    "    )\n",
    "    cv2.putText(\n",
    "        image, label, (int(box[0]), int(box[1] - 5)),\n",
    "        cv2.FONT_HERSHEY_SIMPLEX, 0.7, (0, 0, 255), 2\n",
    "    )\n",
    "    cv2.imshow('image', image)\n",
    "    cv2.waitKey(0)\n",
    "    cv2.destroyWindow('image')\n",
    "\n",
    "\n",
    "dataset = LUDataset(\n",
    "    TRAIN_DIR,\n",
    "    RESIZE_TO,\n",
    "    RESIZE_TO,\n",
    "    CLASSES\n",
    ")\n",
    "print(f'Number of training images: {len(dataset)}')\n",
    "\n",
    "NUM_SAMPLES_TO_VISUALIZE = 2\n",
    "\n",
    "for i in range(NUM_SAMPLES_TO_VISUALIZE):\n",
    "    image, target = dataset[i]\n",
    "    visualize_sample(image, target)"
   ],
   "metadata": {
    "collapsed": false,
    "pycharm": {
     "name": "#%%\n"
    }
   }
  }
 ],
 "metadata": {
  "kernelspec": {
   "display_name": "Python 3",
   "language": "python",
   "name": "python3"
  },
  "language_info": {
   "codemirror_mode": {
    "name": "ipython",
    "version": 2
   },
   "file_extension": ".py",
   "mimetype": "text/x-python",
   "name": "python",
   "nbconvert_exporter": "python",
   "pygments_lexer": "ipython2",
   "version": "2.7.6"
  }
 },
 "nbformat": 4,
 "nbformat_minor": 0
}