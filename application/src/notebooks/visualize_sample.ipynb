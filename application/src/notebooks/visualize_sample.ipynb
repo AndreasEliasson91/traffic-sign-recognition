{
 "cells": [
  {
   "cell_type": "code",
   "execution_count": 2,
   "outputs": [
    {
     "name": "stdout",
     "output_type": "stream",
     "text": [
      "Number of training samples: 3336\n",
      "Number of validation samples: 429\n",
      "\n"
     ]
    }
   ],
   "source": [
    "import cv2\n",
    "\n",
    "from application.src.config import CLASSES, TRAIN_DIR, RESIZE_TO\n",
    "from application.src.models.faster_rcnn import LUDataset"
   ],
   "metadata": {
    "collapsed": false,
    "pycharm": {
     "name": "#%%\n"
    }
   }
  },
  {
   "cell_type": "code",
   "execution_count": 3,
   "outputs": [
    {
     "name": "stdout",
     "output_type": "stream",
     "text": [
      "Number of training images: 3336\n"
     ]
    },
    {
     "ename": "error",
     "evalue": "OpenCV(4.5.5) D:\\a\\opencv-python\\opencv-python\\opencv\\modules\\highgui\\src\\window.cpp:1268: error: (-2:Unspecified error) The function is not implemented. Rebuild the library with Windows, GTK+ 2.x or Cocoa support. If you are on Ubuntu or Debian, install libgtk2.0-dev and pkg-config, then re-run cmake or configure script in function 'cvShowImage'\n",
     "output_type": "error",
     "traceback": [
      "\u001B[1;31m---------------------------------------------------------------------------\u001B[0m",
      "\u001B[1;31merror\u001B[0m                                     Traceback (most recent call last)",
      "Input \u001B[1;32mIn [3]\u001B[0m, in \u001B[0;36m<cell line: 28>\u001B[1;34m()\u001B[0m\n\u001B[0;32m     28\u001B[0m \u001B[38;5;28;01mfor\u001B[39;00m i \u001B[38;5;129;01min\u001B[39;00m \u001B[38;5;28mrange\u001B[39m(NUM_SAMPLES_TO_VISUALIZE):\n\u001B[0;32m     29\u001B[0m     image, target \u001B[38;5;241m=\u001B[39m dataset[i]\n\u001B[1;32m---> 30\u001B[0m     \u001B[43mvisualize_sample\u001B[49m\u001B[43m(\u001B[49m\u001B[43mimage\u001B[49m\u001B[43m,\u001B[49m\u001B[43m \u001B[49m\u001B[43mtarget\u001B[49m\u001B[43m)\u001B[49m\n",
      "Input \u001B[1;32mIn [3]\u001B[0m, in \u001B[0;36mvisualize_sample\u001B[1;34m(image, target)\u001B[0m\n\u001B[0;32m      4\u001B[0m cv2\u001B[38;5;241m.\u001B[39mrectangle(\n\u001B[0;32m      5\u001B[0m     image,\n\u001B[0;32m      6\u001B[0m     (\u001B[38;5;28mint\u001B[39m(box[\u001B[38;5;241m0\u001B[39m]), \u001B[38;5;28mint\u001B[39m(box[\u001B[38;5;241m1\u001B[39m])), (\u001B[38;5;28mint\u001B[39m(box[\u001B[38;5;241m2\u001B[39m]), \u001B[38;5;28mint\u001B[39m(box[\u001B[38;5;241m3\u001B[39m])),\n\u001B[0;32m      7\u001B[0m     (\u001B[38;5;241m0\u001B[39m, \u001B[38;5;241m255\u001B[39m, \u001B[38;5;241m0\u001B[39m), \u001B[38;5;241m2\u001B[39m\n\u001B[0;32m      8\u001B[0m )\n\u001B[0;32m      9\u001B[0m cv2\u001B[38;5;241m.\u001B[39mputText(\n\u001B[0;32m     10\u001B[0m     image, label, (\u001B[38;5;28mint\u001B[39m(box[\u001B[38;5;241m0\u001B[39m]), \u001B[38;5;28mint\u001B[39m(box[\u001B[38;5;241m1\u001B[39m] \u001B[38;5;241m-\u001B[39m \u001B[38;5;241m5\u001B[39m)),\n\u001B[0;32m     11\u001B[0m     cv2\u001B[38;5;241m.\u001B[39mFONT_HERSHEY_SIMPLEX, \u001B[38;5;241m0.7\u001B[39m, (\u001B[38;5;241m0\u001B[39m, \u001B[38;5;241m0\u001B[39m, \u001B[38;5;241m255\u001B[39m), \u001B[38;5;241m2\u001B[39m\n\u001B[0;32m     12\u001B[0m )\n\u001B[1;32m---> 13\u001B[0m \u001B[43mcv2\u001B[49m\u001B[38;5;241;43m.\u001B[39;49m\u001B[43mimshow\u001B[49m\u001B[43m(\u001B[49m\u001B[38;5;124;43m'\u001B[39;49m\u001B[38;5;124;43mimage\u001B[39;49m\u001B[38;5;124;43m'\u001B[39;49m\u001B[43m,\u001B[49m\u001B[43m \u001B[49m\u001B[43mimage\u001B[49m\u001B[43m)\u001B[49m\n\u001B[0;32m     14\u001B[0m cv2\u001B[38;5;241m.\u001B[39mwaitKey(\u001B[38;5;241m0\u001B[39m)\n\u001B[0;32m     15\u001B[0m cv2\u001B[38;5;241m.\u001B[39mdestroyWindow(\u001B[38;5;124m'\u001B[39m\u001B[38;5;124mimage\u001B[39m\u001B[38;5;124m'\u001B[39m)\n",
      "\u001B[1;31merror\u001B[0m: OpenCV(4.5.5) D:\\a\\opencv-python\\opencv-python\\opencv\\modules\\highgui\\src\\window.cpp:1268: error: (-2:Unspecified error) The function is not implemented. Rebuild the library with Windows, GTK+ 2.x or Cocoa support. If you are on Ubuntu or Debian, install libgtk2.0-dev and pkg-config, then re-run cmake or configure script in function 'cvShowImage'\n"
     ]
    }
   ],
   "source": [
    "def visualize_sample(image, target):\n",
    "    box = target['boxes'][0]\n",
    "    label = CLASSES[target['labels']]\n",
    "    cv2.rectangle(\n",
    "        image,\n",
    "        (int(box[0]), int(box[1])), (int(box[2]), int(box[3])),\n",
    "        (0, 255, 0), 2\n",
    "    )\n",
    "    cv2.putText(\n",
    "        image, label, (int(box[0]), int(box[1] - 5)),\n",
    "        cv2.FONT_HERSHEY_SIMPLEX, 0.7, (0, 0, 255), 2\n",
    "    )\n",
    "    cv2.imshow('image', image)\n",
    "    cv2.waitKey(0)\n",
    "    cv2.destroyWindow('image')\n",
    "\n",
    "\n",
    "dataset = LUDataset(\n",
    "    TRAIN_DIR,\n",
    "    RESIZE_TO,\n",
    "    RESIZE_TO,\n",
    "    CLASSES\n",
    ")\n",
    "print(f'Number of training images: {len(dataset)}')\n",
    "\n",
    "NUM_SAMPLES_TO_VISUALIZE = 5\n",
    "\n",
    "for i in range(NUM_SAMPLES_TO_VISUALIZE):\n",
    "    image, target = dataset[i]\n",
    "    visualize_sample(image, target)"
   ],
   "metadata": {
    "collapsed": false,
    "pycharm": {
     "name": "#%%\n"
    }
   }
  }
 ],
 "metadata": {
  "kernelspec": {
   "display_name": "Python 3",
   "language": "python",
   "name": "python3"
  },
  "language_info": {
   "codemirror_mode": {
    "name": "ipython",
    "version": 2
   },
   "file_extension": ".py",
   "mimetype": "text/x-python",
   "name": "python",
   "nbconvert_exporter": "python",
   "pygments_lexer": "ipython2",
   "version": "2.7.6"
  }
 },
 "nbformat": 4,
 "nbformat_minor": 0
}